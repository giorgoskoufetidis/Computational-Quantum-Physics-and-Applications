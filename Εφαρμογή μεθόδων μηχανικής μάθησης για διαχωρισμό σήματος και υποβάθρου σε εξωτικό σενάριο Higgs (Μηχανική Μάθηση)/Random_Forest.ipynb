{
 "cells": [
  {
   "cell_type": "code",
   "execution_count": 28,
   "id": "bd74677c",
   "metadata": {},
   "outputs": [
    {
     "name": "stdout",
     "output_type": "stream",
     "text": [
      "C:\\Users\\User\n"
     ]
    }
   ],
   "source": [
    "import pandas as pd \n",
    "import os\n",
    "print(os.getcwd())"
   ]
  },
  {
   "cell_type": "code",
   "execution_count": 29,
   "id": "24be2f36",
   "metadata": {},
   "outputs": [
    {
     "data": {
      "text/html": [
       "<div>\n",
       "<style scoped>\n",
       "    .dataframe tbody tr th:only-of-type {\n",
       "        vertical-align: middle;\n",
       "    }\n",
       "\n",
       "    .dataframe tbody tr th {\n",
       "        vertical-align: top;\n",
       "    }\n",
       "\n",
       "    .dataframe thead th {\n",
       "        text-align: right;\n",
       "    }\n",
       "</style>\n",
       "<table border=\"1\" class=\"dataframe\">\n",
       "  <thead>\n",
       "    <tr style=\"text-align: right;\">\n",
       "      <th></th>\n",
       "      <th>1.000000000000000000e+00</th>\n",
       "      <th>8.692932128906250000e-01</th>\n",
       "      <th>-6.350818276405334473e-01</th>\n",
       "      <th>2.256902605295181274e-01</th>\n",
       "      <th>3.274700641632080078e-01</th>\n",
       "      <th>-6.899932026863098145e-01</th>\n",
       "      <th>7.542022466659545898e-01</th>\n",
       "      <th>-2.485731393098831177e-01</th>\n",
       "      <th>-1.092063903808593750e+00</th>\n",
       "      <th>0.000000000000000000e+00</th>\n",
       "      <th>...</th>\n",
       "      <th>-1.045456994324922562e-02</th>\n",
       "      <th>-4.576716944575309753e-02</th>\n",
       "      <th>3.101961374282836914e+00</th>\n",
       "      <th>1.353760004043579102e+00</th>\n",
       "      <th>9.795631170272827148e-01</th>\n",
       "      <th>9.780761599540710449e-01</th>\n",
       "      <th>9.200048446655273438e-01</th>\n",
       "      <th>7.216574549674987793e-01</th>\n",
       "      <th>9.887509346008300781e-01</th>\n",
       "      <th>8.766783475875854492e-01</th>\n",
       "    </tr>\n",
       "  </thead>\n",
       "  <tbody>\n",
       "    <tr>\n",
       "      <th>0</th>\n",
       "      <td>0.0</td>\n",
       "      <td>1.630428</td>\n",
       "      <td>0.404143</td>\n",
       "      <td>0.401026</td>\n",
       "      <td>2.722409</td>\n",
       "      <td>0.355644</td>\n",
       "      <td>1.362199</td>\n",
       "      <td>0.015818</td>\n",
       "      <td>-1.174111</td>\n",
       "      <td>0.000000</td>\n",
       "      <td>...</td>\n",
       "      <td>0.387635</td>\n",
       "      <td>1.596321</td>\n",
       "      <td>1.550981</td>\n",
       "      <td>0.859235</td>\n",
       "      <td>0.827233</td>\n",
       "      <td>0.995416</td>\n",
       "      <td>0.764766</td>\n",
       "      <td>0.520597</td>\n",
       "      <td>0.850413</td>\n",
       "      <td>0.929865</td>\n",
       "    </tr>\n",
       "    <tr>\n",
       "      <th>1</th>\n",
       "      <td>1.0</td>\n",
       "      <td>0.326305</td>\n",
       "      <td>-0.797735</td>\n",
       "      <td>0.223471</td>\n",
       "      <td>1.248234</td>\n",
       "      <td>-1.427857</td>\n",
       "      <td>0.923767</td>\n",
       "      <td>-0.278280</td>\n",
       "      <td>-0.470052</td>\n",
       "      <td>0.000000</td>\n",
       "      <td>...</td>\n",
       "      <td>-0.426866</td>\n",
       "      <td>1.153501</td>\n",
       "      <td>0.000000</td>\n",
       "      <td>0.887944</td>\n",
       "      <td>0.924601</td>\n",
       "      <td>0.987189</td>\n",
       "      <td>0.854094</td>\n",
       "      <td>0.385013</td>\n",
       "      <td>0.789912</td>\n",
       "      <td>0.724627</td>\n",
       "    </tr>\n",
       "    <tr>\n",
       "      <th>2</th>\n",
       "      <td>1.0</td>\n",
       "      <td>1.381170</td>\n",
       "      <td>0.521993</td>\n",
       "      <td>0.574698</td>\n",
       "      <td>0.357347</td>\n",
       "      <td>0.037136</td>\n",
       "      <td>0.413057</td>\n",
       "      <td>-0.607036</td>\n",
       "      <td>-1.308270</td>\n",
       "      <td>0.000000</td>\n",
       "      <td>...</td>\n",
       "      <td>0.567525</td>\n",
       "      <td>-1.475778</td>\n",
       "      <td>0.000000</td>\n",
       "      <td>0.936186</td>\n",
       "      <td>1.107217</td>\n",
       "      <td>0.983808</td>\n",
       "      <td>0.693327</td>\n",
       "      <td>0.562045</td>\n",
       "      <td>0.825387</td>\n",
       "      <td>0.846233</td>\n",
       "    </tr>\n",
       "    <tr>\n",
       "      <th>3</th>\n",
       "      <td>1.0</td>\n",
       "      <td>0.304161</td>\n",
       "      <td>-0.736375</td>\n",
       "      <td>0.686225</td>\n",
       "      <td>0.477172</td>\n",
       "      <td>-1.274736</td>\n",
       "      <td>0.907003</td>\n",
       "      <td>0.324770</td>\n",
       "      <td>-0.463954</td>\n",
       "      <td>2.173076</td>\n",
       "      <td>...</td>\n",
       "      <td>0.904818</td>\n",
       "      <td>1.165154</td>\n",
       "      <td>0.000000</td>\n",
       "      <td>1.181790</td>\n",
       "      <td>1.033701</td>\n",
       "      <td>0.993943</td>\n",
       "      <td>0.648399</td>\n",
       "      <td>0.936097</td>\n",
       "      <td>0.732592</td>\n",
       "      <td>0.661779</td>\n",
       "    </tr>\n",
       "    <tr>\n",
       "      <th>4</th>\n",
       "      <td>1.0</td>\n",
       "      <td>0.661761</td>\n",
       "      <td>0.486930</td>\n",
       "      <td>0.542516</td>\n",
       "      <td>2.630618</td>\n",
       "      <td>1.098063</td>\n",
       "      <td>1.021878</td>\n",
       "      <td>-2.306271</td>\n",
       "      <td>-0.652999</td>\n",
       "      <td>0.000000</td>\n",
       "      <td>...</td>\n",
       "      <td>-0.943217</td>\n",
       "      <td>0.566404</td>\n",
       "      <td>3.101961</td>\n",
       "      <td>4.883954</td>\n",
       "      <td>2.585889</td>\n",
       "      <td>0.992005</td>\n",
       "      <td>1.935075</td>\n",
       "      <td>1.144530</td>\n",
       "      <td>1.818775</td>\n",
       "      <td>2.094304</td>\n",
       "    </tr>\n",
       "    <tr>\n",
       "      <th>...</th>\n",
       "      <td>...</td>\n",
       "      <td>...</td>\n",
       "      <td>...</td>\n",
       "      <td>...</td>\n",
       "      <td>...</td>\n",
       "      <td>...</td>\n",
       "      <td>...</td>\n",
       "      <td>...</td>\n",
       "      <td>...</td>\n",
       "      <td>...</td>\n",
       "      <td>...</td>\n",
       "      <td>...</td>\n",
       "      <td>...</td>\n",
       "      <td>...</td>\n",
       "      <td>...</td>\n",
       "      <td>...</td>\n",
       "      <td>...</td>\n",
       "      <td>...</td>\n",
       "      <td>...</td>\n",
       "      <td>...</td>\n",
       "      <td>...</td>\n",
       "    </tr>\n",
       "    <tr>\n",
       "      <th>7995</th>\n",
       "      <td>1.0</td>\n",
       "      <td>0.835437</td>\n",
       "      <td>0.087603</td>\n",
       "      <td>-0.254367</td>\n",
       "      <td>0.565305</td>\n",
       "      <td>0.647809</td>\n",
       "      <td>0.488175</td>\n",
       "      <td>1.169436</td>\n",
       "      <td>1.527465</td>\n",
       "      <td>0.000000</td>\n",
       "      <td>...</td>\n",
       "      <td>0.632485</td>\n",
       "      <td>-0.704450</td>\n",
       "      <td>1.550981</td>\n",
       "      <td>0.566228</td>\n",
       "      <td>1.016260</td>\n",
       "      <td>0.983104</td>\n",
       "      <td>0.587913</td>\n",
       "      <td>0.661417</td>\n",
       "      <td>0.670422</td>\n",
       "      <td>0.641382</td>\n",
       "    </tr>\n",
       "    <tr>\n",
       "      <th>7996</th>\n",
       "      <td>0.0</td>\n",
       "      <td>0.817685</td>\n",
       "      <td>-0.189004</td>\n",
       "      <td>-1.441773</td>\n",
       "      <td>0.259808</td>\n",
       "      <td>-0.360375</td>\n",
       "      <td>1.600286</td>\n",
       "      <td>1.249645</td>\n",
       "      <td>-0.146851</td>\n",
       "      <td>2.173076</td>\n",
       "      <td>...</td>\n",
       "      <td>-0.765825</td>\n",
       "      <td>1.250610</td>\n",
       "      <td>0.000000</td>\n",
       "      <td>0.926674</td>\n",
       "      <td>1.004506</td>\n",
       "      <td>0.983705</td>\n",
       "      <td>1.954265</td>\n",
       "      <td>0.962375</td>\n",
       "      <td>1.358500</td>\n",
       "      <td>1.227740</td>\n",
       "    </tr>\n",
       "    <tr>\n",
       "      <th>7997</th>\n",
       "      <td>1.0</td>\n",
       "      <td>0.425313</td>\n",
       "      <td>0.888205</td>\n",
       "      <td>0.363851</td>\n",
       "      <td>0.573086</td>\n",
       "      <td>1.279933</td>\n",
       "      <td>1.639952</td>\n",
       "      <td>-1.225930</td>\n",
       "      <td>0.082208</td>\n",
       "      <td>0.000000</td>\n",
       "      <td>...</td>\n",
       "      <td>1.210464</td>\n",
       "      <td>-0.117351</td>\n",
       "      <td>0.000000</td>\n",
       "      <td>1.002153</td>\n",
       "      <td>1.521563</td>\n",
       "      <td>0.988448</td>\n",
       "      <td>0.813080</td>\n",
       "      <td>0.786715</td>\n",
       "      <td>1.202513</td>\n",
       "      <td>1.663360</td>\n",
       "    </tr>\n",
       "    <tr>\n",
       "      <th>7998</th>\n",
       "      <td>0.0</td>\n",
       "      <td>1.359575</td>\n",
       "      <td>-1.438606</td>\n",
       "      <td>-0.095677</td>\n",
       "      <td>0.524665</td>\n",
       "      <td>0.918297</td>\n",
       "      <td>1.181000</td>\n",
       "      <td>0.935742</td>\n",
       "      <td>-1.345968</td>\n",
       "      <td>1.086538</td>\n",
       "      <td>...</td>\n",
       "      <td>-0.107062</td>\n",
       "      <td>-1.701072</td>\n",
       "      <td>0.000000</td>\n",
       "      <td>0.814407</td>\n",
       "      <td>0.920867</td>\n",
       "      <td>0.987094</td>\n",
       "      <td>2.352376</td>\n",
       "      <td>1.146577</td>\n",
       "      <td>1.479682</td>\n",
       "      <td>1.433999</td>\n",
       "    </tr>\n",
       "    <tr>\n",
       "      <th>7999</th>\n",
       "      <td>0.0</td>\n",
       "      <td>0.941948</td>\n",
       "      <td>-1.291537</td>\n",
       "      <td>-0.883028</td>\n",
       "      <td>0.757174</td>\n",
       "      <td>-0.740410</td>\n",
       "      <td>2.798600</td>\n",
       "      <td>-0.862516</td>\n",
       "      <td>-0.904685</td>\n",
       "      <td>2.173076</td>\n",
       "      <td>...</td>\n",
       "      <td>-0.097068</td>\n",
       "      <td>-0.422552</td>\n",
       "      <td>0.000000</td>\n",
       "      <td>1.568092</td>\n",
       "      <td>1.233263</td>\n",
       "      <td>0.991878</td>\n",
       "      <td>1.479496</td>\n",
       "      <td>2.769790</td>\n",
       "      <td>2.031308</td>\n",
       "      <td>1.763045</td>\n",
       "    </tr>\n",
       "  </tbody>\n",
       "</table>\n",
       "<p>8000 rows × 29 columns</p>\n",
       "</div>"
      ],
      "text/plain": [
       "      1.000000000000000000e+00  8.692932128906250000e-01  \\\n",
       "0                          0.0                  1.630428   \n",
       "1                          1.0                  0.326305   \n",
       "2                          1.0                  1.381170   \n",
       "3                          1.0                  0.304161   \n",
       "4                          1.0                  0.661761   \n",
       "...                        ...                       ...   \n",
       "7995                       1.0                  0.835437   \n",
       "7996                       0.0                  0.817685   \n",
       "7997                       1.0                  0.425313   \n",
       "7998                       0.0                  1.359575   \n",
       "7999                       0.0                  0.941948   \n",
       "\n",
       "      -6.350818276405334473e-01  2.256902605295181274e-01  \\\n",
       "0                      0.404143                  0.401026   \n",
       "1                     -0.797735                  0.223471   \n",
       "2                      0.521993                  0.574698   \n",
       "3                     -0.736375                  0.686225   \n",
       "4                      0.486930                  0.542516   \n",
       "...                         ...                       ...   \n",
       "7995                   0.087603                 -0.254367   \n",
       "7996                  -0.189004                 -1.441773   \n",
       "7997                   0.888205                  0.363851   \n",
       "7998                  -1.438606                 -0.095677   \n",
       "7999                  -1.291537                 -0.883028   \n",
       "\n",
       "      3.274700641632080078e-01  -6.899932026863098145e-01  \\\n",
       "0                     2.722409                   0.355644   \n",
       "1                     1.248234                  -1.427857   \n",
       "2                     0.357347                   0.037136   \n",
       "3                     0.477172                  -1.274736   \n",
       "4                     2.630618                   1.098063   \n",
       "...                        ...                        ...   \n",
       "7995                  0.565305                   0.647809   \n",
       "7996                  0.259808                  -0.360375   \n",
       "7997                  0.573086                   1.279933   \n",
       "7998                  0.524665                   0.918297   \n",
       "7999                  0.757174                  -0.740410   \n",
       "\n",
       "      7.542022466659545898e-01  -2.485731393098831177e-01  \\\n",
       "0                     1.362199                   0.015818   \n",
       "1                     0.923767                  -0.278280   \n",
       "2                     0.413057                  -0.607036   \n",
       "3                     0.907003                   0.324770   \n",
       "4                     1.021878                  -2.306271   \n",
       "...                        ...                        ...   \n",
       "7995                  0.488175                   1.169436   \n",
       "7996                  1.600286                   1.249645   \n",
       "7997                  1.639952                  -1.225930   \n",
       "7998                  1.181000                   0.935742   \n",
       "7999                  2.798600                  -0.862516   \n",
       "\n",
       "      -1.092063903808593750e+00  0.000000000000000000e+00  ...  \\\n",
       "0                     -1.174111                  0.000000  ...   \n",
       "1                     -0.470052                  0.000000  ...   \n",
       "2                     -1.308270                  0.000000  ...   \n",
       "3                     -0.463954                  2.173076  ...   \n",
       "4                     -0.652999                  0.000000  ...   \n",
       "...                         ...                       ...  ...   \n",
       "7995                   1.527465                  0.000000  ...   \n",
       "7996                  -0.146851                  2.173076  ...   \n",
       "7997                   0.082208                  0.000000  ...   \n",
       "7998                  -1.345968                  1.086538  ...   \n",
       "7999                  -0.904685                  2.173076  ...   \n",
       "\n",
       "      -1.045456994324922562e-02  -4.576716944575309753e-02  \\\n",
       "0                      0.387635                   1.596321   \n",
       "1                     -0.426866                   1.153501   \n",
       "2                      0.567525                  -1.475778   \n",
       "3                      0.904818                   1.165154   \n",
       "4                     -0.943217                   0.566404   \n",
       "...                         ...                        ...   \n",
       "7995                   0.632485                  -0.704450   \n",
       "7996                  -0.765825                   1.250610   \n",
       "7997                   1.210464                  -0.117351   \n",
       "7998                  -0.107062                  -1.701072   \n",
       "7999                  -0.097068                  -0.422552   \n",
       "\n",
       "      3.101961374282836914e+00  1.353760004043579102e+00  \\\n",
       "0                     1.550981                  0.859235   \n",
       "1                     0.000000                  0.887944   \n",
       "2                     0.000000                  0.936186   \n",
       "3                     0.000000                  1.181790   \n",
       "4                     3.101961                  4.883954   \n",
       "...                        ...                       ...   \n",
       "7995                  1.550981                  0.566228   \n",
       "7996                  0.000000                  0.926674   \n",
       "7997                  0.000000                  1.002153   \n",
       "7998                  0.000000                  0.814407   \n",
       "7999                  0.000000                  1.568092   \n",
       "\n",
       "      9.795631170272827148e-01  9.780761599540710449e-01  \\\n",
       "0                     0.827233                  0.995416   \n",
       "1                     0.924601                  0.987189   \n",
       "2                     1.107217                  0.983808   \n",
       "3                     1.033701                  0.993943   \n",
       "4                     2.585889                  0.992005   \n",
       "...                        ...                       ...   \n",
       "7995                  1.016260                  0.983104   \n",
       "7996                  1.004506                  0.983705   \n",
       "7997                  1.521563                  0.988448   \n",
       "7998                  0.920867                  0.987094   \n",
       "7999                  1.233263                  0.991878   \n",
       "\n",
       "      9.200048446655273438e-01  7.216574549674987793e-01  \\\n",
       "0                     0.764766                  0.520597   \n",
       "1                     0.854094                  0.385013   \n",
       "2                     0.693327                  0.562045   \n",
       "3                     0.648399                  0.936097   \n",
       "4                     1.935075                  1.144530   \n",
       "...                        ...                       ...   \n",
       "7995                  0.587913                  0.661417   \n",
       "7996                  1.954265                  0.962375   \n",
       "7997                  0.813080                  0.786715   \n",
       "7998                  2.352376                  1.146577   \n",
       "7999                  1.479496                  2.769790   \n",
       "\n",
       "      9.887509346008300781e-01  8.766783475875854492e-01  \n",
       "0                     0.850413                  0.929865  \n",
       "1                     0.789912                  0.724627  \n",
       "2                     0.825387                  0.846233  \n",
       "3                     0.732592                  0.661779  \n",
       "4                     1.818775                  2.094304  \n",
       "...                        ...                       ...  \n",
       "7995                  0.670422                  0.641382  \n",
       "7996                  1.358500                  1.227740  \n",
       "7997                  1.202513                  1.663360  \n",
       "7998                  1.479682                  1.433999  \n",
       "7999                  2.031308                  1.763045  \n",
       "\n",
       "[8000 rows x 29 columns]"
      ]
     },
     "execution_count": 29,
     "metadata": {},
     "output_type": "execute_result"
    }
   ],
   "source": [
    "df = pd.read_csv('C:\\\\Users\\\\User\\\\Desktop\\\\Msc Computational physics\\\\Υπολογιστική Κβαντομηχανική\\\\HIGGS_8K.csv')\n",
    "df"
   ]
  },
  {
   "cell_type": "code",
   "execution_count": 30,
   "id": "96c0cdc9",
   "metadata": {},
   "outputs": [],
   "source": [
    "data_class= df.iloc[:,0] #Classification(1=signal,0=background)\n",
    "data_21 = df.iloc[:,1:21] #Low level quantities\n",
    "data_28 = df.iloc[:,22:] #High levev quantities\n",
    "data_all = df.iloc[:,1:] #All data low and high"
   ]
  },
  {
   "cell_type": "code",
   "execution_count": 31,
   "id": "b4e9a3af",
   "metadata": {},
   "outputs": [],
   "source": [
    "from sklearn.model_selection import train_test_split\n",
    "data21_train, data21_test, data21_class_train, data21_class_test = train_test_split(data_21, data_class, test_size = 0.25, random_state = 42)\n",
    "data28_train, data28_test, data28_class_train, data28_class_test = train_test_split(data_28, data_class, test_size = 0.25, random_state = 42)\n",
    "dataAll_train, dataAll_test, dataAll_class_train, dataAll_class_test = train_test_split(data_all, data_class, test_size = 0.25, random_state = 42)"
   ]
  },
  {
   "cell_type": "code",
   "execution_count": 32,
   "id": "c9938868",
   "metadata": {},
   "outputs": [
    {
     "data": {
      "text/plain": [
       "RandomForestClassifier(criterion='entropy', n_estimators=200, random_state=50)"
      ]
     },
     "execution_count": 32,
     "metadata": {},
     "output_type": "execute_result"
    }
   ],
   "source": [
    "from sklearn.ensemble import RandomForestClassifier\n",
    "classifier = RandomForestClassifier(n_estimators = 200, criterion = 'entropy', random_state = 50)\n",
    "classifier.fit(data21_train, data21_class_train)\n"
   ]
  },
  {
   "cell_type": "code",
   "execution_count": 33,
   "id": "495049fe",
   "metadata": {},
   "outputs": [],
   "source": [
    "data21_test_pred = classifier.predict(data21_test)"
   ]
  },
  {
   "cell_type": "code",
   "execution_count": 34,
   "id": "152ed1d9",
   "metadata": {},
   "outputs": [
    {
     "name": "stdout",
     "output_type": "stream",
     "text": [
      "[[451 541]\n",
      " [290 718]]\n"
     ]
    },
    {
     "data": {
      "text/plain": [
       "0.5845"
      ]
     },
     "execution_count": 34,
     "metadata": {},
     "output_type": "execute_result"
    }
   ],
   "source": [
    "from sklearn.metrics import confusion_matrix, accuracy_score\n",
    "cm21 = confusion_matrix(data21_class_test, data21_test_pred)\n",
    "print(cm21)\n",
    "accuracy_score(data21_class_test, data21_test_pred)"
   ]
  },
  {
   "cell_type": "code",
   "execution_count": 35,
   "id": "ab6fb1d5",
   "metadata": {},
   "outputs": [],
   "source": [
    "classifier.fit(data28_train, data28_class_train)\n",
    "data28_test_pred = classifier.predict(data28_test)"
   ]
  },
  {
   "cell_type": "code",
   "execution_count": 36,
   "id": "4b54811d",
   "metadata": {},
   "outputs": [
    {
     "name": "stdout",
     "output_type": "stream",
     "text": [
      "[[632 360]\n",
      " [270 738]]\n"
     ]
    },
    {
     "data": {
      "text/plain": [
       "0.685"
      ]
     },
     "execution_count": 36,
     "metadata": {},
     "output_type": "execute_result"
    }
   ],
   "source": [
    "cm28 = confusion_matrix(data28_class_test, data28_test_pred)\n",
    "print(cm28)\n",
    "accuracy_score(data28_class_test, data28_test_pred)"
   ]
  },
  {
   "cell_type": "code",
   "execution_count": 37,
   "id": "7199cbb5",
   "metadata": {},
   "outputs": [],
   "source": [
    "classifier.fit(dataAll_train, dataAll_class_train)\n",
    "dataAll_test_pred = classifier.predict(dataAll_test)"
   ]
  },
  {
   "cell_type": "code",
   "execution_count": 38,
   "id": "1aca31bd",
   "metadata": {},
   "outputs": [
    {
     "name": "stdout",
     "output_type": "stream",
     "text": [
      "[[631 361]\n",
      " [233 775]]\n"
     ]
    },
    {
     "data": {
      "text/plain": [
       "0.703"
      ]
     },
     "execution_count": 38,
     "metadata": {},
     "output_type": "execute_result"
    }
   ],
   "source": [
    "cmAll = confusion_matrix(dataAll_class_test, dataAll_test_pred)\n",
    "print(cmAll)\n",
    "accuracy_score(dataAll_class_test, dataAll_test_pred)"
   ]
  },
  {
   "cell_type": "code",
   "execution_count": 45,
   "id": "6a9f41ac",
   "metadata": {},
   "outputs": [
    {
     "data": {
      "image/png": "[encoded data removed]",
      "text/plain": [
       "<Figure size 432x288 with 2 Axes>"
      ]
     },
     "metadata": {
      "needs_background": "light"
     },
     "output_type": "display_data"
    }
   ],
   "source": [
    "import matplotlib.pyplot as plt\n",
    "from sklearn.metrics import ConfusionMatrixDisplay\n",
    "disp21 = ConfusionMatrixDisplay(confusion_matrix=cm21, display_labels=classifier.classes_)\n",
    "disp21.plot()\n",
    "plt.title(\"Low quantities\")\n",
    "plt.show()"
   ]
  },
  {
   "cell_type": "code",
   "execution_count": 46,
   "id": "9e5bbb3a",
   "metadata": {},
   "outputs": [
    {
     "data": {
      "image/png": "[encoded data removed]",
      "text/plain": [
       "<Figure size 432x288 with 2 Axes>"
      ]
     },
     "metadata": {
      "needs_background": "light"
     },
     "output_type": "display_data"
    }
   ],
   "source": [
    "disp28 = ConfusionMatrixDisplay(confusion_matrix=cm28, display_labels=classifier.classes_)\n",
    "disp28.plot()\n",
    "plt.title(\"High quantities\")\n",
    "plt.show()"
   ]
  },
  {
   "cell_type": "code",
   "execution_count": 47,
   "id": "2c56a119",
   "metadata": {},
   "outputs": [
    {
     "data": {
      "image/png": "[encoded data removed]",
      "text/plain": [
       "<Figure size 432x288 with 2 Axes>"
      ]
     },
     "metadata": {
      "needs_background": "light"
     },
     "output_type": "display_data"
    }
   ],
   "source": [
    "dispAll= ConfusionMatrixDisplay(confusion_matrix=cmAll, display_labels=classifier.classes_)\n",
    "dispAll.plot()\n",
    "plt.title(\"High and Low quantities\")\n",
    "plt.show()"
   ]
  },
  {
   "cell_type": "code",
   "execution_count": 42,
   "id": "6e1086d0",
   "metadata": {},
   "outputs": [
    {
     "name": "stdout",
     "output_type": "stream",
     "text": [
      "              precision    recall  f1-score   support\n",
      "\n",
      "         0.0       0.61      0.45      0.52       992\n",
      "         1.0       0.57      0.71      0.63      1008\n",
      "\n",
      "    accuracy                           0.58      2000\n",
      "   macro avg       0.59      0.58      0.58      2000\n",
      "weighted avg       0.59      0.58      0.58      2000\n",
      "\n"
     ]
    }
   ],
   "source": [
    "from sklearn.metrics import classification_report\n",
    "print(classification_report(data21_class_test, data21_test_pred))"
   ]
  },
  {
   "cell_type": "code",
   "execution_count": 43,
   "id": "fd328631",
   "metadata": {},
   "outputs": [
    {
     "name": "stdout",
     "output_type": "stream",
     "text": [
      "              precision    recall  f1-score   support\n",
      "\n",
      "         0.0       0.61      0.45      0.52       992\n",
      "         1.0       0.57      0.71      0.63      1008\n",
      "\n",
      "    accuracy                           0.58      2000\n",
      "   macro avg       0.59      0.58      0.58      2000\n",
      "weighted avg       0.59      0.58      0.58      2000\n",
      "\n"
     ]
    }
   ],
   "source": [
    "print(classification_report(data28_class_test, data21_test_pred))"
   ]
  },
  {
   "cell_type": "code",
   "execution_count": 44,
   "id": "576d0f33",
   "metadata": {},
   "outputs": [
    {
     "name": "stdout",
     "output_type": "stream",
     "text": [
      "              precision    recall  f1-score   support\n",
      "\n",
      "         0.0       0.61      0.45      0.52       992\n",
      "         1.0       0.57      0.71      0.63      1008\n",
      "\n",
      "    accuracy                           0.58      2000\n",
      "   macro avg       0.59      0.58      0.58      2000\n",
      "weighted avg       0.59      0.58      0.58      2000\n",
      "\n"
     ]
    }
   ],
   "source": [
    "print(classification_report(dataAll_class_test, data21_test_pred))"
   ]
  },
  {
   "cell_type": "code",
   "execution_count": null,
   "id": "a1d53dd1",
   "metadata": {},
   "outputs": [],
   "source": []
  }
 ],
 "metadata": {
  "kernelspec": {
   "display_name": "Python 3 (ipykernel)",
   "language": "python",
   "name": "python3"
  },
  "language_info": {
   "codemirror_mode": {
    "name": "ipython",
    "version": 3
   },
   "file_extension": ".py",
   "mimetype": "text/x-python",
   "name": "python",
   "nbconvert_exporter": "python",
   "pygments_lexer": "ipython3",
   "version": "3.9.7"
  }
 },
 "nbformat": 4,
 "nbformat_minor": 5
}
