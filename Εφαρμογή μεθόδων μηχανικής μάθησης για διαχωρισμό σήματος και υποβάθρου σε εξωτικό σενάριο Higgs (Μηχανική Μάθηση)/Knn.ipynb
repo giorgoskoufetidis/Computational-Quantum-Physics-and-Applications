{
 "cells": [
  {
   "cell_type": "code",
   "execution_count": 164,
   "id": "29ca4ae4",
   "metadata": {},
   "outputs": [
    {
     "name": "stdout",
     "output_type": "stream",
     "text": [
      "C:\\Users\\User\n"
     ]
    }
   ],
   "source": [
    "import pandas as pd \n",
    "import os\n",
    "print(os.getcwd())"
   ]
  },
  {
   "cell_type": "code",
   "execution_count": 1,
   "id": "17782656",
   "metadata": {},
   "outputs": [
    {
     "ename": "NameError",
     "evalue": "name 'pd' is not defined",
     "output_type": "error",
     "traceback": [
      "\u001b[1;31m---------------------------------------------------------------------------\u001b[0m",
      "\u001b[1;31mNameError\u001b[0m                                 Traceback (most recent call last)",
      "\u001b[1;32m~\\AppData\\Local\\Temp/ipykernel_8732/3720133001.py\u001b[0m in \u001b[0;36m<module>\u001b[1;34m\u001b[0m\n\u001b[1;32m----> 1\u001b[1;33m \u001b[0mdf\u001b[0m \u001b[1;33m=\u001b[0m \u001b[0mpd\u001b[0m\u001b[1;33m.\u001b[0m\u001b[0mread_csv\u001b[0m\u001b[1;33m(\u001b[0m\u001b[1;34m'C:\\\\Users\\\\User\\\\Desktop\\\\Msc Computational physics\\\\Υπολογιστική Κβαντομηχανική\\\\HIGGS_8K.csv'\u001b[0m\u001b[1;33m,\u001b[0m\u001b[0mheader\u001b[0m\u001b[1;33m=\u001b[0m\u001b[1;32mNone\u001b[0m\u001b[1;33m)\u001b[0m\u001b[1;33m\u001b[0m\u001b[1;33m\u001b[0m\u001b[0m\n\u001b[0m\u001b[0;32m      2\u001b[0m \u001b[0mdf\u001b[0m\u001b[1;33m\u001b[0m\u001b[1;33m\u001b[0m\u001b[0m\n",
      "\u001b[1;31mNameError\u001b[0m: name 'pd' is not defined"
     ]
    }
   ],
   "source": [
    "df = pd.read_csv('C:\\\\Users\\\\User\\\\Desktop\\\\Msc Computational physics\\\\Υπολογιστική Κβαντομηχανική\\\\HIGGS_8K.csv')\n",
    "df"
   ]
  },
  {
   "cell_type": "code",
   "execution_count": 166,
   "id": "fb804295",
   "metadata": {},
   "outputs": [],
   "source": [
    "data_class= df.iloc[:,0] #Classification(1=signal,0=background)\n",
    "data_21 = df.iloc[:,1:21] #Low level quantities\n",
    "data_28 = df.iloc[:,22:] #High levev quantities\n",
    "data_all = df.iloc[:,1:] #All data low and high"
   ]
  },
  {
   "cell_type": "code",
   "execution_count": 167,
   "id": "e97b1f2e",
   "metadata": {},
   "outputs": [],
   "source": [
    "from sklearn.model_selection import train_test_split\n",
    "data21_train, data21_test, data21_class_train, data21_class_test = train_test_split(data_21, data_class, test_size = 0.25, random_state = 42)\n",
    "data28_train, data28_test, data28_class_train, data28_class_test = train_test_split(data_28, data_class, test_size = 0.25, random_state = 42)\n",
    "dataAll_train, dataAll_test, dataAll_class_train, dataAll_class_test = train_test_split(data_all, data_class, test_size = 0.25, random_state = 42)"
   ]
  },
  {
   "cell_type": "code",
   "execution_count": 168,
   "id": "23205de8",
   "metadata": {},
   "outputs": [],
   "source": [
    "from sklearn.preprocessing import StandardScaler\n",
    "from pandas import DataFrame\n",
    "#name StandardScaler()\n",
    "scaler = StandardScaler()\n",
    "# Low quantities\n",
    "data21_train_scaled = scaler.fit_transform(data21_train)\n",
    "data21_test_scaled =scaler.transform(data21_test)\n",
    "#High quantities\n",
    "data28_train_scaled = scaler.fit_transform(data28_train)\n",
    "data28_test_scaled =scaler.transform(data28_test)\n",
    "#All quantities\n",
    "dataAll_train_scaled = scaler.fit_transform(dataAll_train)\n",
    "dataAll_test_scaled =scaler.transform(dataAll_test)"
   ]
  },
  {
   "cell_type": "code",
   "execution_count": 169,
   "id": "28ce3c55",
   "metadata": {},
   "outputs": [
    {
     "data": {
      "text/plain": [
       "KNeighborsClassifier()"
      ]
     },
     "execution_count": 169,
     "metadata": {},
     "output_type": "execute_result"
    }
   ],
   "source": [
    "from sklearn.neighbors import KNeighborsClassifier\n",
    "#choosing the Eucledian distance (See classifier's help) \n",
    "classifier = KNeighborsClassifier(n_neighbors = 5)\n",
    "\n",
    "classifier.fit(data21_train_scaled, data21_class_train)\n",
    "\n",
    "#classifier.fit(data28_train_scaled, data28_class_train)\n",
    "\n",
    "#classifier.fit(dataAll_train_scaled, dataAll_class_train)"
   ]
  },
  {
   "cell_type": "code",
   "execution_count": 170,
   "id": "8851695f",
   "metadata": {},
   "outputs": [
    {
     "data": {
      "text/plain": [
       "array([0., 1., 1., ..., 1., 0., 1.])"
      ]
     },
     "execution_count": 170,
     "metadata": {},
     "output_type": "execute_result"
    }
   ],
   "source": [
    "data21_test_pred = classifier.predict(data21_test_scaled)\n",
    "data21_test_pred\n"
   ]
  },
  {
   "cell_type": "code",
   "execution_count": 171,
   "id": "13a7b4b1",
   "metadata": {},
   "outputs": [
    {
     "data": {
      "text/plain": [
       "KNeighborsClassifier()"
      ]
     },
     "execution_count": 171,
     "metadata": {},
     "output_type": "execute_result"
    }
   ],
   "source": [
    "classifier.fit(data28_train_scaled, data28_class_train)"
   ]
  },
  {
   "cell_type": "code",
   "execution_count": 172,
   "id": "a5872481",
   "metadata": {},
   "outputs": [
    {
     "data": {
      "text/plain": [
       "array([0., 1., 1., ..., 0., 0., 0.])"
      ]
     },
     "execution_count": 172,
     "metadata": {},
     "output_type": "execute_result"
    }
   ],
   "source": [
    "data28_test_pred = classifier.predict(data28_test_scaled)\n",
    "data28_test_pred"
   ]
  },
  {
   "cell_type": "code",
   "execution_count": 173,
   "id": "64f89d32",
   "metadata": {},
   "outputs": [
    {
     "data": {
      "text/plain": [
       "KNeighborsClassifier()"
      ]
     },
     "execution_count": 173,
     "metadata": {},
     "output_type": "execute_result"
    }
   ],
   "source": [
    "classifier.fit(dataAll_train_scaled, dataAll_class_train)"
   ]
  },
  {
   "cell_type": "code",
   "execution_count": 174,
   "id": "b461590a",
   "metadata": {},
   "outputs": [
    {
     "data": {
      "text/plain": [
       "array([0., 1., 1., ..., 0., 0., 1.])"
      ]
     },
     "execution_count": 174,
     "metadata": {},
     "output_type": "execute_result"
    }
   ],
   "source": [
    "dataAll_test_pred = classifier.predict(dataAll_test_scaled)\n",
    "dataAll_test_pred"
   ]
  },
  {
   "cell_type": "code",
   "execution_count": 175,
   "id": "caa51b22",
   "metadata": {},
   "outputs": [
    {
     "name": "stdout",
     "output_type": "stream",
     "text": [
      "[[446 546]\n",
      " [322 686]]\n"
     ]
    },
    {
     "data": {
      "text/plain": [
       "0.566"
      ]
     },
     "execution_count": 175,
     "metadata": {},
     "output_type": "execute_result"
    }
   ],
   "source": [
    "from sklearn.metrics import confusion_matrix, accuracy_score\n",
    "cm21 = confusion_matrix(data21_class_test, data21_test_pred)\n",
    "print(cm21)\n",
    "accuracy_score(data21_class_test, data21_test_pred)"
   ]
  },
  {
   "cell_type": "code",
   "execution_count": 176,
   "id": "aa69baa9",
   "metadata": {},
   "outputs": [
    {
     "name": "stdout",
     "output_type": "stream",
     "text": [
      "[[600 392]\n",
      " [294 714]]\n"
     ]
    },
    {
     "data": {
      "text/plain": [
       "0.657"
      ]
     },
     "execution_count": 176,
     "metadata": {},
     "output_type": "execute_result"
    }
   ],
   "source": [
    "cm28 = confusion_matrix(data28_class_test, data28_test_pred)\n",
    "print(cm28)\n",
    "accuracy_score(data28_class_test, data28_test_pred)"
   ]
  },
  {
   "cell_type": "code",
   "execution_count": 177,
   "id": "becfdc2b",
   "metadata": {},
   "outputs": [
    {
     "name": "stdout",
     "output_type": "stream",
     "text": [
      "[[505 487]\n",
      " [305 703]]\n"
     ]
    },
    {
     "data": {
      "text/plain": [
       "0.604"
      ]
     },
     "execution_count": 177,
     "metadata": {},
     "output_type": "execute_result"
    }
   ],
   "source": [
    "cmAll = confusion_matrix(dataAll_class_test, dataAll_test_pred)\n",
    "print(cmAll)\n",
    "accuracy_score(dataAll_class_test, dataAll_test_pred)"
   ]
  },
  {
   "cell_type": "code",
   "execution_count": 178,
   "id": "a121a0f0",
   "metadata": {},
   "outputs": [
    {
     "data": {
      "image/png": "[encoded data removed]",
      "text/plain": [
       "<Figure size 432x288 with 2 Axes>"
      ]
     },
     "metadata": {
      "needs_background": "light"
     },
     "output_type": "display_data"
    },
    {
     "data": {
      "image/png": "[encoded data removed]",
      "text/plain": [
       "<Figure size 432x288 with 2 Axes>"
      ]
     },
     "metadata": {
      "needs_background": "light"
     },
     "output_type": "display_data"
    },
    {
     "data": {
      "image/png": "[encoded data removed]",
      "text/plain": [
       "<Figure size 432x288 with 2 Axes>"
      ]
     },
     "metadata": {
      "needs_background": "light"
     },
     "output_type": "display_data"
    }
   ],
   "source": [
    "import matplotlib.pyplot as plt\n",
    "from sklearn.metrics import ConfusionMatrixDisplay\n",
    "disp = ConfusionMatrixDisplay(confusion_matrix=cm, display_labels=classifier.classes_)\n",
    "disp.plot()\n",
    "plt.title(\"Low quantities\")\n",
    "plt.show()\n",
    "disp = ConfusionMatrixDisplay(confusion_matrix=cm28, display_labels=classifier.classes_)\n",
    "disp.plot()\n",
    "plt.title(\"High quantities\")\n",
    "plt.show()\n",
    "disp = ConfusionMatrixDisplay(confusion_matrix=cmAll, display_labels=classifier.classes_)\n",
    "disp.plot()\n",
    "plt.title(\"High and low quantities\")\n",
    "plt.show()"
   ]
  },
  {
   "cell_type": "code",
   "execution_count": 179,
   "id": "959c34cd",
   "metadata": {},
   "outputs": [
    {
     "name": "stdout",
     "output_type": "stream",
     "text": [
      "Low quantities\n",
      "\n",
      "              precision    recall  f1-score   support\n",
      "\n",
      "         0.0       0.58      0.45      0.51       992\n",
      "         1.0       0.56      0.68      0.61      1008\n",
      "\n",
      "    accuracy                           0.57      2000\n",
      "   macro avg       0.57      0.57      0.56      2000\n",
      "weighted avg       0.57      0.57      0.56      2000\n",
      "\n",
      "High quantities\n",
      "\n",
      "              precision    recall  f1-score   support\n",
      "\n",
      "         0.0       0.67      0.60      0.64       992\n",
      "         1.0       0.65      0.71      0.68      1008\n",
      "\n",
      "    accuracy                           0.66      2000\n",
      "   macro avg       0.66      0.66      0.66      2000\n",
      "weighted avg       0.66      0.66      0.66      2000\n",
      "\n",
      "High and Low quantities\n",
      "              precision    recall  f1-score   support\n",
      "\n",
      "         0.0       0.62      0.51      0.56       992\n",
      "         1.0       0.59      0.70      0.64      1008\n",
      "\n",
      "    accuracy                           0.60      2000\n",
      "   macro avg       0.61      0.60      0.60      2000\n",
      "weighted avg       0.61      0.60      0.60      2000\n",
      "\n"
     ]
    }
   ],
   "source": [
    "from sklearn.metrics import classification_report\n",
    "print(\"Low quantities\\n\")\n",
    "print(classification_report(data21_class_test, data21_test_pred))\n",
    "print(\"High quantities\\n\")\n",
    "print(classification_report(data28_class_test, data28_test_pred))\n",
    "print(\"High and Low quantities\")\n",
    "print(classification_report(dataAll_class_test, dataAll_test_pred))"
   ]
  },
  {
   "cell_type": "code",
   "execution_count": null,
   "id": "c7778f42",
   "metadata": {},
   "outputs": [],
   "source": []
  },
  {
   "cell_type": "code",
   "execution_count": null,
   "id": "63a580b8",
   "metadata": {},
   "outputs": [],
   "source": [
    "\n"
   ]
  },
  {
   "cell_type": "code",
   "execution_count": null,
   "id": "2a2f696d",
   "metadata": {},
   "outputs": [],
   "source": []
  },
  {
   "cell_type": "code",
   "execution_count": null,
   "id": "b283c3ed",
   "metadata": {},
   "outputs": [],
   "source": []
  },
  {
   "cell_type": "code",
   "execution_count": null,
   "id": "2577c907",
   "metadata": {},
   "outputs": [],
   "source": []
  },
  {
   "cell_type": "code",
   "execution_count": null,
   "id": "e9668b42",
   "metadata": {},
   "outputs": [],
   "source": []
  },
  {
   "cell_type": "code",
   "execution_count": null,
   "id": "e0d8a623",
   "metadata": {},
   "outputs": [],
   "source": []
  },
  {
   "cell_type": "code",
   "execution_count": null,
   "id": "5aebfe9b",
   "metadata": {},
   "outputs": [],
   "source": []
  },
  {
   "cell_type": "code",
   "execution_count": null,
   "id": "2ad8249c",
   "metadata": {},
   "outputs": [],
   "source": []
  },
  {
   "cell_type": "code",
   "execution_count": null,
   "id": "3e48a1bb",
   "metadata": {},
   "outputs": [],
   "source": []
  },
  {
   "cell_type": "code",
   "execution_count": null,
   "id": "1e2b0658",
   "metadata": {},
   "outputs": [],
   "source": []
  },
  {
   "cell_type": "code",
   "execution_count": null,
   "id": "435f8b74",
   "metadata": {},
   "outputs": [],
   "source": []
  }
 ],
 "metadata": {
  "kernelspec": {
   "display_name": "Python 3 (ipykernel)",
   "language": "python",
   "name": "python3"
  },
  "language_info": {
   "codemirror_mode": {
    "name": "ipython",
    "version": 3
   },
   "file_extension": ".py",
   "mimetype": "text/x-python",
   "name": "python",
   "nbconvert_exporter": "python",
   "pygments_lexer": "ipython3",
   "version": "3.9.7"
  }
 },
 "nbformat": 4,
 "nbformat_minor": 5
}
